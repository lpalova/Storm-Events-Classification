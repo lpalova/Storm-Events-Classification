{
 "cells": [
  {
   "cell_type": "markdown",
   "metadata": {},
   "source": [
    "# Classification Storms"
   ]
  },
  {
   "cell_type": "code",
   "execution_count": 1,
   "metadata": {
    "collapsed": false
   },
   "outputs": [
    {
     "name": "stderr",
     "output_type": "stream",
     "text": [
      "/home/lucia/anaconda2/lib/python2.7/site-packages/matplotlib/font_manager.py:273: UserWarning: Matplotlib is building the font cache using fc-list. This may take a moment.\n",
      "  warnings.warn('Matplotlib is building the font cache using fc-list. This may take a moment.')\n"
     ]
    }
   ],
   "source": [
    "%matplotlib inline\n",
    "import pandas as pd\n",
    "import numpy as np\n",
    "import matplotlib.pyplot as plt\n",
    "import matplotlib\n",
    "matplotlib.style.use('ggplot')\n",
    "\n",
    "from sklearn.cross_validation import train_test_split\n",
    "from sklearn.tree import DecisionTreeClassifier\n",
    "from sklearn.ensemble import RandomForestClassifier\n",
    "from sklearn.cross_validation import cross_val_score\n",
    "from sklearn.learning_curve import learning_curve\n",
    "from sklearn.metrics import accuracy_score, classification_report\n",
    "\n",
    "from collections import Counter\n",
    "import random\n",
    "random.seed(4444)"
   ]
  },
  {
   "cell_type": "markdown",
   "metadata": {},
   "source": [
    "## Reading Data"
   ]
  },
  {
   "cell_type": "code",
   "execution_count": 2,
   "metadata": {
    "collapsed": false
   },
   "outputs": [],
   "source": [
    "subset_trainvalid = pd.read_pickle('./dfs/subset_trainvalid')"
   ]
  },
  {
   "cell_type": "markdown",
   "metadata": {},
   "source": [
    "## Model features"
   ]
  },
  {
   "cell_type": "code",
   "execution_count": 3,
   "metadata": {
    "collapsed": false,
    "scrolled": false
   },
   "outputs": [],
   "source": [
    "features = ['EVENT_CATEGORY',\n",
    "                 'INJURIES_DIRECT', 'INJURIES_INDIRECT', 'DEATHS_DIRECT', 'DEATHS_INDIRECT',\n",
    "                 'DAMAGE_PROPERTY', 'DAMAGE_CROPS', \n",
    "                 'STATE',\n",
    "                 'SEASON', 'BEGIN_YEAR', 'LAT', 'LON', \n",
    "                 'DURATION', 'TOR_F_SCALE',\n",
    "                 'WFO']\n",
    "df = subset_trainvalid.loc[:,features]\n",
    "feat_cat = ['EVENT_CATEGORY', 'SEASON', 'BEGIN_YEAR', 'STATE', 'TOR_F_SCALE','WFO']\n",
    "for item in feat_cat:\n",
    "    df[item] = df[item].astype('category')"
   ]
  },
  {
   "cell_type": "markdown",
   "metadata": {},
   "source": [
    "## Missing values"
   ]
  },
  {
   "cell_type": "code",
   "execution_count": 4,
   "metadata": {
    "collapsed": false
   },
   "outputs": [
    {
     "name": "stdout",
     "output_type": "stream",
     "text": [
      "EVENT_CATEGORY\n",
      "Wind              134090\n",
      "Storm             129489\n",
      "Flood              50450\n",
      "Winter Weather     45380\n",
      "Heat               26699\n",
      "Tornado            13261\n",
      "Tide                3675\n",
      "Hurricane            340\n",
      "dtype: int64\n"
     ]
    }
   ],
   "source": [
    "#l = 1.0*len(df)\n",
    "#for name in df.columns.values:\n",
    "#    ln = len(df[df[name].isnull()])\n",
    "#    print name, ln/l\n",
    "# Dropping all observations with missing values (property - 42%, crops - 52%), \n",
    "dfn = df.dropna()\n",
    "# Total missing observations -- 45%\n",
    "#print 1.0*len(dfn)/len(df)\n",
    "print dfn.groupby('EVENT_CATEGORY').size().sort_values(ascending=False)"
   ]
  },
  {
   "cell_type": "markdown",
   "metadata": {},
   "source": [
    "## Dummies for categorical variables"
   ]
  },
  {
   "cell_type": "code",
   "execution_count": 5,
   "metadata": {
    "collapsed": false
   },
   "outputs": [
    {
     "name": "stdout",
     "output_type": "stream",
     "text": [
      "EVENT_CATEGORY       category\n",
      "INJURIES_DIRECT         int64\n",
      "INJURIES_INDIRECT       int64\n",
      "DEATHS_DIRECT           int64\n",
      "DEATHS_INDIRECT         int64\n",
      "DAMAGE_PROPERTY       float64\n",
      "DAMAGE_CROPS          float64\n",
      "STATE                category\n",
      "SEASON               category\n",
      "BEGIN_YEAR           category\n",
      "LAT                   float64\n",
      "LON                   float64\n",
      "DURATION              float64\n",
      "TOR_F_SCALE          category\n",
      "WFO                  category\n",
      "dtype: object\n"
     ]
    }
   ],
   "source": [
    "print dfn.dtypes\n",
    "y = dfn['EVENT_CATEGORY']\n",
    "X = dfn.loc[:,'INJURIES_DIRECT':]\n",
    "X = pd.get_dummies(X)"
   ]
  },
  {
   "cell_type": "markdown",
   "metadata": {},
   "source": [
    "# Model"
   ]
  },
  {
   "cell_type": "code",
   "execution_count": 6,
   "metadata": {
    "collapsed": false
   },
   "outputs": [],
   "source": [
    "# Splitting the dataset into train and validation sets\n",
    "X_train, X_valid, y_train, y_valid = train_test_split(X, y, test_size = 0.25)\n",
    "y_train = pd.Series(y_train)"
   ]
  },
  {
   "cell_type": "code",
   "execution_count": 7,
   "metadata": {
    "collapsed": true
   },
   "outputs": [],
   "source": [
    "def plot_learning_curve(estimator, title, X, y, ylim=None, cv=None,\n",
    "                        n_jobs=1, train_sizes=np.linspace(.1, 1.0, 5)):\n",
    "    plt.title(title)\n",
    "    if ylim is not None:\n",
    "        plt.ylim(*ylim)\n",
    "    plt.xlabel(\"Training examples\")\n",
    "    plt.ylabel(\"Score\")\n",
    "    train_sizes, train_scores, test_scores = learning_curve(\n",
    "        estimator, X, y, cv=cv, n_jobs=n_jobs, train_sizes=train_sizes)\n",
    "    train_scores_mean = np.mean(train_scores, axis=1)\n",
    "    train_scores_std = np.std(train_scores, axis=1)\n",
    "    test_scores_mean = np.mean(test_scores, axis=1)\n",
    "    test_scores_std = np.std(test_scores, axis=1)\n",
    "    plt.grid()\n",
    "    plt.fill_between(train_sizes, train_scores_mean - train_scores_std,\n",
    "                     train_scores_mean + train_scores_std, alpha=0.1,\n",
    "                     color=\"r\")\n",
    "    plt.fill_between(train_sizes, test_scores_mean - test_scores_std,\n",
    "                     test_scores_mean + test_scores_std, alpha=0.1, color=\"g\")\n",
    "    plt.plot(train_sizes, train_scores_mean, 'o-', color=\"r\",\n",
    "             label=\"Training score\")\n",
    "    plt.plot(train_sizes, test_scores_mean, 'o-', color=\"g\",\n",
    "             label=\"Cross-validation score\")\n",
    "    plt.legend(loc=\"best\")\n",
    "    return plt\n",
    "\n",
    "def mean_cross_val_score(estimator, X, y, cv=None, scoring=None, n_jobs=1):\n",
    "    scores = cross_val_score(estimator, X, y, scoring=scoring, cv=cv, n_jobs=n_jobs)\n",
    "    scores_mean = np.mean(scores)\n",
    "    return scores_mean\n",
    "\n",
    "def baseline_predictor(X_valid, y_train):\n",
    "    labels = y_train.unique()\n",
    "    return [Counter(y_train).most_common(1)[0][0]]*len(X_valid)"
   ]
  },
  {
   "cell_type": "markdown",
   "metadata": {},
   "source": [
    "### Baseline Predictor"
   ]
  },
  {
   "cell_type": "code",
   "execution_count": 8,
   "metadata": {
    "collapsed": false
   },
   "outputs": [
    {
     "name": "stdout",
     "output_type": "stream",
     "text": [
      "Baseline Predictor - Test accuracy: 0.330513852805 \n",
      "\n"
     ]
    }
   ],
   "source": [
    "y_predbp = baseline_predictor(X_valid, y_train)\n",
    "acbp = accuracy_score(y_valid, y_predbp)\n",
    "print 'Baseline Predictor - Test accuracy:', acbp,'\\n'"
   ]
  },
  {
   "cell_type": "markdown",
   "metadata": {},
   "source": [
    "### Decision Tree Classifier"
   ]
  },
  {
   "cell_type": "code",
   "execution_count": 9,
   "metadata": {
    "collapsed": false
   },
   "outputs": [
    {
     "name": "stdout",
     "output_type": "stream",
     "text": [
      "Test accuracy for Decision Tree Classifier: 0.811375761061\n",
      "             precision    recall  f1-score   support\n",
      "\n",
      "      Flood       0.89      0.87      0.88     12567\n",
      "       Heat       0.96      0.96      0.96      6777\n",
      "  Hurricane       0.90      0.85      0.87        97\n",
      "      Storm       0.75      0.76      0.75     32518\n",
      "       Tide       0.89      0.90      0.90       946\n",
      "    Tornado       0.86      0.85      0.85      3335\n",
      "       Wind       0.79      0.79      0.79     33331\n",
      "Winter Weather       0.85      0.85      0.85     11275\n",
      "\n",
      "avg / total       0.81      0.81      0.81    100846\n",
      "\n"
     ]
    }
   ],
   "source": [
    "dtc = DecisionTreeClassifier()\n",
    "modeldtc = dtc.fit(X_train, y_train) \n",
    "y_predDTC = dtc.predict(X_valid)\n",
    "print 'Test accuracy for Decision Tree Classifier:', accuracy_score(y_valid, y_predDTC)\n",
    "print classification_report(y_valid, y_predDTC)"
   ]
  },
  {
   "cell_type": "markdown",
   "metadata": {},
   "source": [
    "### Random Forest Classifier"
   ]
  },
  {
   "cell_type": "code",
   "execution_count": 10,
   "metadata": {
    "collapsed": false
   },
   "outputs": [
    {
     "name": "stdout",
     "output_type": "stream",
     "text": [
      "Test accuracy for Random Forest Classifier: 0.840529123614\n",
      "             precision    recall  f1-score   support\n",
      "\n",
      "      Flood       0.91      0.92      0.91     12567\n",
      "       Heat       0.98      0.97      0.97      6777\n",
      "  Hurricane       0.90      0.85      0.87        97\n",
      "      Storm       0.78      0.80      0.79     32518\n",
      "       Tide       0.92      0.89      0.91       946\n",
      "    Tornado       0.92      0.84      0.88      3335\n",
      "       Wind       0.83      0.81      0.82     33331\n",
      "Winter Weather       0.86      0.87      0.87     11275\n",
      "\n",
      "avg / total       0.84      0.84      0.84    100846\n",
      "\n"
     ]
    }
   ],
   "source": [
    "rfc = RandomForestClassifier()\n",
    "modelrfc = rfc.fit(X_train, y_train) \n",
    "y_predRF = rfc.predict(X_valid)\n",
    "print 'Test accuracy for Random Forest Classifier:', accuracy_score(y_valid, y_predRF)\n",
    "print classification_report(y_valid, y_predRF)"
   ]
  },
  {
   "cell_type": "code",
   "execution_count": 12,
   "metadata": {
    "collapsed": false
   },
   "outputs": [
    {
     "data": {
      "image/png": "[encoded data removed]",
      "text/plain": [
       "<matplotlib.figure.Figure at 0x7f140f2efa50>"
      ]
     },
     "metadata": {},
     "output_type": "display_data"
    }
   ],
   "source": [
    "all_features = zip(X_valid.columns.values, rfc.feature_importances_)\n",
    "all_features = sorted(all_features, key = lambda x: x[1], reverse=True)\n",
    "top_features = pd.DataFrame(all_features[:9])\n",
    "top_features.set_index([0], inplace = True)\n",
    "top_features.sort_values(by=1, ascending=True, inplace=True)\n",
    "del top_features.index.name\n",
    "\n",
    "plt.close('all')\n",
    "matplotlib.rc('xtick', labelsize=25) \n",
    "matplotlib.rc('ytick', labelsize=25) \n",
    "plt.rc('font', weight='bold')\n",
    "plt.rcParams[\"figure.figsize\"] = [30,8]\n",
    "ax = top_features.plot(kind='barh', color ='lightblue',legend=False)\n",
    "#ax.set_xlabel('Weight',fontsize=30)\n",
    "#ax.set_ylabel('Predictor',fontsize=30)\n",
    "ax.set_title('Top Predictors',fontsize=35, color='grey', fontweight='bold')\n",
    "path = \"./figs/storms_rf_predictors.png\"\n",
    "plt.savefig(path)"
   ]
  },
  {
   "cell_type": "code",
   "execution_count": null,
   "metadata": {
    "collapsed": true
   },
   "outputs": [],
   "source": []
  }
 ],
 "metadata": {
  "kernelspec": {
   "display_name": "Python 2",
   "language": "python",
   "name": "python2"
  },
  "language_info": {
   "codemirror_mode": {
    "name": "ipython",
    "version": 2
   },
   "file_extension": ".py",
   "mimetype": "text/x-python",
   "name": "python",
   "nbconvert_exporter": "python",
   "pygments_lexer": "ipython2",
   "version": "2.7.11"
  }
 },
 "nbformat": 4,
 "nbformat_minor": 0
}
